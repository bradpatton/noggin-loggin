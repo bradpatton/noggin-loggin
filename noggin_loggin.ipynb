{
 "cells": [
  {
   "cell_type": "markdown",
   "metadata": {},
   "source": [
    "# 1. Introduction\n",
    "\n",
    "This notebook demonstrates how to detect brain tumors using [specific type of medical images] with a Convolutional Neural Network (CNN).\n"
   ]
  },
  {
   "cell_type": "markdown",
   "metadata": {},
   "source": [
    "1.1 Libraries required for the implementation"
   ]
  },
  {
   "cell_type": "code",
   "execution_count": 3,
   "metadata": {},
   "outputs": [],
   "source": [
    "import os\n",
    "import zipfile\n",
    "import cv2\n",
    "import numpy as np\n",
    "from sklearn.model_selection import train_test_split\n",
    "from tensorflow.keras.applications import ResNet50\n",
    "from tensorflow.keras.layers import Dense, Flatten, Dropout\n",
    "from keras.layers import Conv2D, MaxPooling2D, Flatten, Dense\n",
    "from tensorflow.keras.models import Model\n",
    "from tensorflow.keras.optimizers import Adam\n",
    "from tensorflow.keras.utils import to_categorical\n",
    "from keras.models import Sequential\n",
    "\n",
    "from keras.preprocessing import image\n",
    "from keras.models import load_model\n",
    "from keras.models import save_model"
   ]
  },
  {
   "cell_type": "markdown",
   "metadata": {},
   "source": [
    "# 2. Data Acquisition and Preprocessing\n",
    "## 2.1 Download and Load the Dataset\n",
    "\n",
    "Kaggle Dataset Link\n",
    "https://www.kaggle.com/datasets/pkdarabi/medical-image-dataset-brain-tumor-detection/download?datasetVersionNumber=1\n",
    "\n",
    "There is a Kaggle API library but for the sake of brevity, I have provided the link to the data set instead. Copy the file to the working directory for the notebook. The following steps with unzip the file to the correct directory structure. "
   ]
  },
  {
   "cell_type": "code",
   "execution_count": 5,
   "metadata": {},
   "outputs": [],
   "source": [
    "# Create seperate folder for data set\n",
    "if not os.path.exists('data'):\n",
    "    os.mkdir('data')"
   ]
  },
  {
   "cell_type": "code",
   "execution_count": 6,
   "metadata": {},
   "outputs": [],
   "source": [
    "#Open .zip archive containgin the data set\n",
    "with zipfile.ZipFile('data/archive.zip', 'r') as zip_ref:\n",
    "    zip_ref.extractall('data')"
   ]
  },
  {
   "cell_type": "markdown",
   "metadata": {},
   "source": [
    "## 2.2 Preprocess the Images"
   ]
  },
  {
   "cell_type": "markdown",
   "metadata": {},
   "source": [
    "Load the labels and images into a two lists and resize the images to 255x255"
   ]
  },
  {
   "cell_type": "code",
   "execution_count": 7,
   "metadata": {},
   "outputs": [
    {
     "name": "stdout",
     "output_type": "stream",
     "text": [
      "Empty line in file: data/Brain Tumor Detection/train/labels/volume_81_slice_74_jpg.rf.0e6fd292529c8de2f2200362c5356e2f.txt\n",
      "Empty line in file: data/Brain Tumor Detection/train/labels/volume_156_slice_99_jpg.rf.e0d4b9e1099e5e82068e9dd8d7be5d5a.txt\n",
      "Empty line in file: data/Brain Tumor Detection/train/labels/volume_142_slice_87_jpg.rf.7ff60ed9145d23ded877f35f43c44127.txt\n",
      "Empty line in file: data/Brain Tumor Detection/train/labels/volume_232_slice_98_jpg.rf.a9f52374f1363f05c627e39af3f4879a.txt\n",
      "Empty line in file: data/Brain Tumor Detection/train/labels/volume_86_slice_70_jpg.rf.dc460f228a36168dcadb375fa8e17605.txt\n",
      "Empty line in file: data/Brain Tumor Detection/train/labels/volume_110_slice_46_jpg.rf.e28127cb2990920434fef709be5c1970.txt\n",
      "Empty line in file: data/Brain Tumor Detection/train/labels/volume_249_slice_73_jpg.rf.d302a42a5a0407be96069a47edfbc750.txt\n",
      "Empty line in file: data/Brain Tumor Detection/train/labels/volume_8_slice_72_jpg.rf.6711d62ebe95ff6bdc458f26dd2b1301.txt\n",
      "Empty line in file: data/Brain Tumor Detection/train/labels/volume_110_slice_53_jpg.rf.4b40a8bb7b5c3cf0967d9c07b3f69057.txt\n",
      "Empty line in file: data/Brain Tumor Detection/train/labels/volume_278_slice_37_jpg.rf.c8bc61a586becba1098524f1057cd08b.txt\n",
      "Empty line in file: data/Brain Tumor Detection/train/labels/volume_22_slice_56_jpg.rf.d592155ad386f0f7de45d77850a9645f.txt\n",
      "Empty line in file: data/Brain Tumor Detection/train/labels/volume_126_slice_56_jpg.rf.314f2b0ed511cbcc4de027ce15579fb3.txt\n",
      "Empty line in file: data/Brain Tumor Detection/train/labels/volume_244_slice_121_jpg.rf.6ff1538689cc9023d1679d1e4ce21ecd.txt\n",
      "Empty line in file: data/Brain Tumor Detection/train/labels/volume_22_slice_59_jpg.rf.0c47e428da275061c12fd892ea6698be.txt\n",
      "Empty line in file: data/Brain Tumor Detection/train/labels/volume_286_slice_62_jpg.rf.7d9cca9b3a7f4c8469c473e5dd107dd1.txt\n",
      "Empty line in file: data/Brain Tumor Detection/train/labels/volume_49_slice_52_jpg.rf.fa4e06b5e7fc7ce0c27e2042ec5b4594.txt\n",
      "Empty line in file: data/Brain Tumor Detection/train/labels/volume_75_slice_31_jpg.rf.1a499336c8e11824691e1e48e6af3a3c.txt\n",
      "Empty line in file: data/Brain Tumor Detection/train/labels/volume_306_slice_55_jpg.rf.1cf8769ddff837b114a02789c7e30ceb.txt\n",
      "Empty line in file: data/Brain Tumor Detection/train/labels/volume_95_slice_135_jpg.rf.8dd24827621d26834ec28993103f4300.txt\n",
      "Empty line in file: data/Brain Tumor Detection/train/labels/volume_225_slice_60_jpg.rf.6cd2231d55c7c9e24df6ac6f075b4902.txt\n",
      "Empty line in file: data/Brain Tumor Detection/train/labels/volume_103_slice_47_jpg.rf.66f343a46349fe7e9848b866fa3758f4.txt\n",
      "Empty line in file: data/Brain Tumor Detection/train/labels/volume_94_slice_90_jpg.rf.2dde849a5c6b4ae464c5cafd0e41114d.txt\n",
      "Empty line in file: data/Brain Tumor Detection/train/labels/volume_346_slice_56_jpg.rf.819827a05eddc3a4c1452a124b423d23.txt\n",
      "Empty line in file: data/Brain Tumor Detection/train/labels/volume_37_slice_31_jpg.rf.b0d3ee64bcc5edab1238598c6c65bcb5.txt\n",
      "Empty line in file: data/Brain Tumor Detection/train/labels/volume_178_slice_30_jpg.rf.193828df9e735798eacc54cc3eb187b3.txt\n",
      "Empty line in file: data/Brain Tumor Detection/train/labels/volume_8_slice_71_jpg.rf.9d9deb645928b29392f987eed389258a.txt\n",
      "Empty line in file: data/Brain Tumor Detection/train/labels/volume_197_slice_51_jpg.rf.bcebaeef01168c39096b54e3db89969d.txt\n",
      "Empty line in file: data/Brain Tumor Detection/train/labels/volume_26_slice_31_jpg.rf.ba16a124ecf9e639489885f6ca5a10ca.txt\n",
      "Empty line in file: data/Brain Tumor Detection/train/labels/volume_106_slice_39_jpg.rf.df75e5a2fd201892e7808a78f5426886.txt\n",
      "Empty line in file: data/Brain Tumor Detection/train/labels/volume_196_slice_100_jpg.rf.d32d1e0327b97ce2d28e2bcebb8d6020.txt\n",
      "Empty line in file: data/Brain Tumor Detection/train/labels/volume_106_slice_43_jpg.rf.a48a548f417aa06e5cc82fe5b54621b4.txt\n",
      "Empty line in file: data/Brain Tumor Detection/train/labels/volume_48_slice_75_jpg.rf.53bca54adf01e60fb6ed1d4ccbd7765d.txt\n",
      "Empty line in file: data/Brain Tumor Detection/train/labels/volume_191_slice_117_jpg.rf.a2e2ddd2138cea3b376ae2ea78a6810b.txt\n",
      "Empty line in file: data/Brain Tumor Detection/train/labels/volume_22_slice_61_jpg.rf.2cb31523945466756f67300a29a5f195.txt\n",
      "Empty line in file: data/Brain Tumor Detection/train/labels/volume_234_slice_29_jpg.rf.08500a714f3e809079d8185540864c32.txt\n",
      "Empty line in file: data/Brain Tumor Detection/train/labels/volume_346_slice_57_jpg.rf.a6e823ec5f8839240c174ef037bcc288.txt\n",
      "Empty line in file: data/Brain Tumor Detection/train/labels/volume_367_slice_112_jpg.rf.ce913e53e60aeba0572e932120c458e5.txt\n",
      "Empty line in file: data/Brain Tumor Detection/train/labels/volume_291_slice_125_jpg.rf.40ee220710dc650bedfc2bf7f7ebede4.txt\n",
      "Empty line in file: data/Brain Tumor Detection/train/labels/volume_52_slice_127_jpg.rf.db22789f22aa493b806166e733e74acb.txt\n",
      "Empty line in file: data/Brain Tumor Detection/train/labels/volume_358_slice_112_jpg.rf.44b54271c6b5751571870bb28a61fb9a.txt\n",
      "Empty line in file: data/Brain Tumor Detection/train/labels/volume_106_slice_38_jpg.rf.35280d61745a3c9c8a982af7e134f05a.txt\n",
      "Empty line in file: data/Brain Tumor Detection/train/labels/volume_106_slice_44_jpg.rf.3b0285879b7aac733d1712ef8177d98e.txt\n",
      "Empty line in file: data/Brain Tumor Detection/train/labels/volume_173_slice_60_jpg.rf.f09ddd4fdcd33e1588e512803bc00cfb.txt\n",
      "Empty line in file: data/Brain Tumor Detection/train/labels/volume_146_slice_98_jpg.rf.d974dc84e904ef69bcbe2836d96a0958.txt\n",
      "Empty line in file: data/Brain Tumor Detection/train/labels/volume_63_slice_56_jpg.rf.ad1fed10850b8f1fb33dcde764b77012.txt\n",
      "Empty line in file: data/Brain Tumor Detection/train/labels/volume_27_slice_103_jpg.rf.79f7ada1a0f5096aa44811ba6ec4da91.txt\n",
      "Empty line in file: data/Brain Tumor Detection/train/labels/volume_22_slice_57_jpg.rf.30e20221893edf3fb8e5de85567c5d27.txt\n",
      "Empty line in file: data/Brain Tumor Detection/train/labels/volume_17_slice_118_jpg.rf.59848b5e32900276089b16eda778dcca.txt\n",
      "Empty line in file: data/Brain Tumor Detection/train/labels/volume_50_slice_107_jpg.rf.bf9818887a0226ba6cb671a9c1e2b884.txt\n",
      "Empty line in file: data/Brain Tumor Detection/train/labels/volume_239_slice_60_jpg.rf.2a368bc78cf5abe0be94e770b67e555c.txt\n",
      "Empty line in file: data/Brain Tumor Detection/train/labels/volume_217_slice_28_jpg.rf.5c087efa219cdc3bda2cb56290e05466.txt\n",
      "Empty line in file: data/Brain Tumor Detection/train/labels/volume_178_slice_37_jpg.rf.318352cdba2d98c3986b10362ff228df.txt\n",
      "Empty line in file: data/Brain Tumor Detection/train/labels/volume_48_slice_26_jpg.rf.2dc596352f35b313b1fde664777cca9e.txt\n",
      "Empty line in file: data/Brain Tumor Detection/train/labels/volume_330_slice_35_jpg.rf.8266248d2811a4772bdad4ece04c0170.txt\n",
      "Empty line in file: data/Brain Tumor Detection/train/labels/volume_106_slice_42_jpg.rf.9c61af52fbf9819617326395a3188620.txt\n",
      "Empty line in file: data/Brain Tumor Detection/train/labels/volume_213_slice_85_jpg.rf.00142e91058f3800346c1a44ebd1fcdc.txt\n",
      "Empty line in file: data/Brain Tumor Detection/train/labels/volume_51_slice_138_jpg.rf.3dd10a466ac2f2e7a762ce4f2a0bfd2c.txt\n",
      "Empty line in file: data/Brain Tumor Detection/train/labels/volume_154_slice_74_jpg.rf.e06fb38e68ab19f5013c6ca9d633f504.txt\n",
      "Empty line in file: data/Brain Tumor Detection/train/labels/volume_320_slice_121_jpg.rf.738e4aa1dc53a83cf604675bafa7ff63.txt\n",
      "Empty line in file: data/Brain Tumor Detection/train/labels/volume_279_slice_57_jpg.rf.90fbfec7437e4aa6c241a896e2b75545.txt\n",
      "Empty line in file: data/Brain Tumor Detection/train/labels/volume_106_slice_46_jpg.rf.0e4aa14c62d9ccbcb659972313f930e7.txt\n",
      "Empty line in file: data/Brain Tumor Detection/train/labels/volume_82_slice_51_jpg.rf.4d0f4fe60d3763c0eac42423c7275b36.txt\n",
      "Empty line in file: data/Brain Tumor Detection/train/labels/volume_257_slice_48_jpg.rf.7da31174d6b579a9bf3a01312c86cdf5.txt\n",
      "Empty line in file: data/Brain Tumor Detection/train/labels/volume_334_slice_33_jpg.rf.fd4b061bb0e2579dbf7827c51196ef92.txt\n",
      "Empty line in file: data/Brain Tumor Detection/train/labels/volume_245_slice_99_jpg.rf.11820eb0a9816a2cfe1e34b873d83341.txt\n",
      "Empty line in file: data/Brain Tumor Detection/train/labels/volume_97_slice_44_jpg.rf.34f65763344b7446935da29e04dac94c.txt\n",
      "Empty line in file: data/Brain Tumor Detection/train/labels/volume_269_slice_70_jpg.rf.c9112edc97963664360033299acbdf40.txt\n",
      "Empty line in file: data/Brain Tumor Detection/train/labels/volume_249_slice_25_jpg.rf.57f579d4b08adf5356c428f2ef50b99a.txt\n",
      "Empty line in file: data/Brain Tumor Detection/train/labels/volume_82_slice_53_jpg.rf.9b9cb2b7f64aad43328bb42413e71a0d.txt\n",
      "Empty line in file: data/Brain Tumor Detection/train/labels/volume_346_slice_63_jpg.rf.87c0a7fc70f82510c14fdaf588b0290c.txt\n",
      "Empty line in file: data/Brain Tumor Detection/train/labels/volume_11_slice_114_jpg.rf.2b15cf2d45b0cb8c07b37dfbcda309b2.txt\n",
      "Empty line in file: data/Brain Tumor Detection/train/labels/volume_215_slice_35_jpg.rf.324f0647ad343f6f59e83e731b0955a4.txt\n",
      "Empty line in file: data/Brain Tumor Detection/train/labels/volume_278_slice_108_jpg.rf.fbac0f1381ee2e5c32ef2af00711b5fc.txt\n",
      "Empty line in file: data/Brain Tumor Detection/train/labels/volume_236_slice_29_jpg.rf.0bfa753298fbbb4b002f5715d79d88f0.txt\n",
      "Empty line in file: data/Brain Tumor Detection/train/labels/volume_297_slice_130_jpg.rf.d04c120b4e29e6124077d488e4493807.txt\n",
      "Empty line in file: data/Brain Tumor Detection/train/labels/volume_251_slice_59_jpg.rf.5d403476e7b51ad5aa550cdbe3a7d796.txt\n",
      "Empty line in file: data/Brain Tumor Detection/train/labels/volume_103_slice_105_jpg.rf.d4e90385089165ce3abb8b42f46c9634.txt\n",
      "Empty line in file: data/Brain Tumor Detection/train/labels/volume_114_slice_38_jpg.rf.51c18361c954c495bd632d4706eadfd7.txt\n",
      "Empty line in file: data/Brain Tumor Detection/train/labels/volume_207_slice_46_jpg.rf.74551c256d8bd70a5b73690cede51f27.txt\n"
     ]
    }
   ],
   "source": [
    "def load_data(data_dir):\n",
    "    # Instantiate two lists for the purposes of holding the images and labels. \n",
    "    images = []\n",
    "    labels = []\n",
    "    # Loop through each filename in the dataset directory.\n",
    "    \n",
    "    for filename in os.listdir(os.path.join(data_dir, \"images\")):\n",
    "        if filename.endswith('.jpg'):\n",
    "            img_path = os.path.join(data_dir, \"images\", filename)\n",
    "            label_path = os.path.join(data_dir, \"labels\", filename.replace('.jpg', '.txt'))\n",
    "            # Add files that have a corresponding label\n",
    "            if os.path.isfile(label_path):\n",
    "                with open(label_path, 'r') as label_file:\n",
    "                    line = label_file.readline().strip()\n",
    "\n",
    "                    if not line:\n",
    "                        print(f\"Empty line in file: {label_path}\")\n",
    "                        continue\n",
    "\n",
    "                    try:\n",
    "                        label = int(line.split()[0])\n",
    "                        labels.append(label)\n",
    "                    except (ValueError, IndexError) as e:\n",
    "                        print(f\"Error processing line in file {label_path}: {line}\")\n",
    "                        print(f\"Error details: {e}\")\n",
    "\n",
    "                # Resize the image to the expected input shape (224, 224)\n",
    "                img = cv2.imread(img_path)\n",
    "                img = cv2.resize(img, (224, 224))\n",
    "                images.append(img)\n",
    "\n",
    "    return np.array(images), np.array(labels)\n",
    "\n",
    "\n",
    "# Specify your dataset directory\n",
    "dataset_dir = 'data/Brain Tumor Detection/train'\n",
    "\n",
    "# Load the data\n",
    "images, labels = load_data(dataset_dir)"
   ]
  },
  {
   "cell_type": "markdown",
   "metadata": {},
   "source": [
    "## 2.3 Split the data into test and training sets "
   ]
  },
  {
   "cell_type": "code",
   "execution_count": 8,
   "metadata": {},
   "outputs": [],
   "source": [
    "X_train, X_test, y_train, y_test = train_test_split(images, labels, test_size=0.2, random_state=42)"
   ]
  },
  {
   "cell_type": "code",
   "execution_count": 9,
   "metadata": {},
   "outputs": [],
   "source": [
    "# Ensure labels start from 0\n",
    "min_label = np.min(y_train)\n",
    "y_train = y_train - min_label\n",
    "y_test = y_test - min_label\n",
    "\n",
    "# Count the number of unique labels\n",
    "num_classes = len(np.unique(y_train))\n",
    "\n",
    "# Convert labels to categorical format\n",
    "y_train_categorical = to_categorical(y_train, num_classes=num_classes)\n",
    "y_test_categorical = to_categorical(y_test, num_classes=num_classes)"
   ]
  },
  {
   "cell_type": "markdown",
   "metadata": {},
   "source": [
    "# 3.0 Model Training\n",
    "\n",
    "## 3.1 Create the intial model for training based on ResNet50\n",
    "WARNING : This bit takes a couple of hours to complete on i9 with 32GB RAM"
   ]
  },
  {
   "cell_type": "code",
   "execution_count": 10,
   "metadata": {},
   "outputs": [
    {
     "name": "stdout",
     "output_type": "stream",
     "text": [
      "Epoch 1/10\n",
      "\u001b[1m172/172\u001b[0m \u001b[32m━━━━━━━━━━━━━━━━━━━━\u001b[0m\u001b[37m\u001b[0m \u001b[1m1399s\u001b[0m 8s/step - accuracy: 0.5834 - loss: 8.6860 - val_accuracy: 0.6827 - val_loss: 10.3892\n",
      "Epoch 2/10\n",
      "\u001b[1m172/172\u001b[0m \u001b[32m━━━━━━━━━━━━━━━━━━━━\u001b[0m\u001b[37m\u001b[0m \u001b[1m1390s\u001b[0m 8s/step - accuracy: 0.6509 - loss: 0.9453 - val_accuracy: 0.7061 - val_loss: 4.8646\n",
      "Epoch 3/10\n",
      "\u001b[1m172/172\u001b[0m \u001b[32m━━━━━━━━━━━━━━━━━━━━\u001b[0m\u001b[37m\u001b[0m \u001b[1m1354s\u001b[0m 8s/step - accuracy: 0.7011 - loss: 0.6664 - val_accuracy: 0.7440 - val_loss: 1.0119\n",
      "Epoch 4/10\n",
      "\u001b[1m172/172\u001b[0m \u001b[32m━━━━━━━━━━━━━━━━━━━━\u001b[0m\u001b[37m\u001b[0m \u001b[1m1394s\u001b[0m 8s/step - accuracy: 0.7504 - loss: 0.5881 - val_accuracy: 0.7352 - val_loss: 0.5391\n",
      "Epoch 5/10\n",
      "\u001b[1m172/172\u001b[0m \u001b[32m━━━━━━━━━━━━━━━━━━━━\u001b[0m\u001b[37m\u001b[0m \u001b[1m1368s\u001b[0m 8s/step - accuracy: 0.7806 - loss: 0.4948 - val_accuracy: 0.7783 - val_loss: 0.5084\n",
      "Epoch 6/10\n",
      "\u001b[1m172/172\u001b[0m \u001b[32m━━━━━━━━━━━━━━━━━━━━\u001b[0m\u001b[37m\u001b[0m \u001b[1m1375s\u001b[0m 8s/step - accuracy: 0.8398 - loss: 0.4063 - val_accuracy: 0.7877 - val_loss: 0.4699\n",
      "Epoch 7/10\n",
      "\u001b[1m108/172\u001b[0m \u001b[32m━━━━━━━━━━━━\u001b[0m\u001b[37m━━━━━━━━\u001b[0m \u001b[1m8:24\u001b[0m 8s/step - accuracy: 0.8826 - loss: 0.2978"
     ]
    }
   ],
   "source": [
    "# Load the pre-trained ResNet50 model without the top layer\n",
    "base_model = ResNet50(weights='imagenet', include_top=False, input_shape=(224, 224, 3))\n",
    "\n",
    "# Add custom layers for classification\n",
    "x = base_model.output\n",
    "x = Flatten()(x)\n",
    "x = Dense(512, activation='relu')(x)\n",
    "x = Dropout(0.5)(x)\n",
    "output = Dense(num_classes, activation='softmax')(x)\n",
    "\n",
    "# Create the final model\n",
    "model = Model(inputs=base_model.input, outputs=output)\n",
    "\n",
    "# Compile the model\n",
    "model.compile(optimizer=Adam(), loss='categorical_crossentropy', metrics=['accuracy'])\n",
    "\n",
    "# Train the model\n",
    "model.fit(X_train, y_train_categorical, epochs=10, batch_size=32, validation_data=(X_test, y_test_categorical))\n",
    "\n",
    "# Evaluate the model on the test set\n",
    "accuracy = model.evaluate(X_test, y_test_categorical)[1]\n",
    "print(f'Test Accuracy: {accuracy}')"
   ]
  },
  {
   "cell_type": "markdown",
   "metadata": {},
   "source": [
    "## 3.2 Save the model for later use."
   ]
  },
  {
   "cell_type": "code",
   "execution_count": null,
   "metadata": {},
   "outputs": [],
   "source": [
    "if not os.path.exists('models'):\n",
    "    os.mkdir('models')\n",
    "\n",
    "model.save('models/brain_tumor_ResNet50.keras')"
   ]
  },
  {
   "cell_type": "markdown",
   "metadata": {},
   "source": [
    "# 4.0 Exploratory Data Analysis (EDA)"
   ]
  },
  {
   "cell_type": "code",
   "execution_count": 78,
   "metadata": {},
   "outputs": [],
   "source": [
    "import matplotlib.pyplot as plt"
   ]
  },
  {
   "cell_type": "markdown",
   "metadata": {},
   "source": [
    "## 4.1 Sample code to visualize images"
   ]
  },
  {
   "cell_type": "code",
   "execution_count": 79,
   "metadata": {},
   "outputs": [],
   "source": [
    "def plot_images(images, labels):\n",
    "    plt.figure(figsize=(10, 10))\n",
    "    for i in range(9):\n",
    "        plt.subplot(3, 3, i + 1)\n",
    "        plt.imshow(images[i])\n",
    "        plt.title(labels[i])\n",
    "        plt.axis('off')\n",
    "        plt.show()\n",
    "        plot_images(sample_images, sample_labels)"
   ]
  },
  {
   "cell_type": "markdown",
   "metadata": {},
   "source": [
    "Plot training history"
   ]
  },
  {
   "cell_type": "code",
   "execution_count": 37,
   "metadata": {},
   "outputs": [
    {
     "data": {
      "text/plain": [
       "<matplotlib.legend.Legend at 0x14f8ad220>"
      ]
     },
     "execution_count": 37,
     "metadata": {},
     "output_type": "execute_result"
    },
    {
     "data": {
      "image/png": "[encoded data removed]",
      "text/plain": [
       "<Figure size 640x480 with 1 Axes>"
      ]
     },
     "metadata": {},
     "output_type": "display_data"
    }
   ],
   "source": [
    "plt.plot(history.history['accuracy'], label='accuracy')\n",
    "plt.plot(history.history['val_accuracy'], label = 'val_accuracy')\n",
    "plt.xlabel('Epoch')\n",
    "plt.ylabel('Accuracy')\n",
    "plt.ylim([0, 1])\n",
    "plt.legend(loc='lower right')"
   ]
  },
  {
   "cell_type": "markdown",
   "metadata": {},
   "source": [
    "\n",
    "# 5.0 Conclusion and Future Work\n",
    "\n",
    "In this notebook, we demonstrated how to develop a CNN to detect brain tumors from MRI images. \n",
    "Future work could involve exploring more sophisticated model architectures, data augmentation techniques, or different datasets.\n"
   ]
  }
 ],
 "metadata": {
  "kernelspec": {
   "display_name": "Python 3",
   "language": "python",
   "name": "python3"
  },
  "language_info": {
   "codemirror_mode": {
    "name": "ipython",
    "version": 3
   },
   "file_extension": ".py",
   "mimetype": "text/x-python",
   "name": "python",
   "nbconvert_exporter": "python",
   "pygments_lexer": "ipython3",
   "version": "3.9.6"
  }
 },
 "nbformat": 4,
 "nbformat_minor": 2
}
